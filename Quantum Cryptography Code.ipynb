{
 "cells": [
  {
   "cell_type": "markdown",
   "id": "6694bfff",
   "metadata": {},
   "source": [
    "# Applied Quantum Project \n",
    "By Joseph Anderson, Charlie Brady, Diarmuid Dignam and Ben Clark"
   ]
  },
  {
   "cell_type": "code",
   "execution_count": 1,
   "id": "6d11d14f",
   "metadata": {},
   "outputs": [],
   "source": [
    "import numpy as np\n",
    "import matplotlib.pyplot as plt"
   ]
  },
  {
   "cell_type": "markdown",
   "id": "6d22d5bd",
   "metadata": {},
   "source": [
    "## 1) General Example \n",
    "One base is used where the photons could be in two different qubit states - polarised vertically or horizontally."
   ]
  },
  {
   "cell_type": "markdown",
   "id": "14f83aa0",
   "metadata": {},
   "source": [
    "### 1.1) No Eavesdropper"
   ]
  },
  {
   "cell_type": "markdown",
   "id": "c44006e0",
   "metadata": {},
   "source": [
    "We consider Alice and Bob. Alice wants to send a message to Bob. Alice sends either vertically or horizontally polarized photons to Bob. Just after she sends them they go through a beam splitter which is in the vertical base. Bob also uses a beam splitter in the vertical base. So, vertically polarized photons from Alice go through to Bob but horizontal ones do not. Alice and Bob get the same results as shown - black squares meaning photon was measured, white ones mean it was blocked.  "
   ]
  },
  {
   "cell_type": "code",
   "execution_count": 2,
   "id": "66391521",
   "metadata": {},
   "outputs": [],
   "source": [
    "def generate_q_states(num):\n",
    "    # Generate a random sequence of quantum states (0 or 1) with size \"num\"\n",
    "    return np.random.choice([0, 1], size=num)"
   ]
  },
  {
   "cell_type": "code",
   "execution_count": 9,
   "id": "11c54c42",
   "metadata": {},
   "outputs": [],
   "source": [
    "def alice_prepare_states(num):\n",
    "    # Alice makes a sequence of quantum states\n",
    "    return generate_q_states(num)"
   ]
  },
  {
   "cell_type": "code",
   "execution_count": 10,
   "id": "5b67f23d",
   "metadata": {},
   "outputs": [],
   "source": [
    "def bob_measure_states(states, bases):\n",
    "    # Bob measures the sequence of quantum states\n",
    "    \n",
    "    measurements = np.zeros_like(states)\n",
    "    for i in range(len(states)):\n",
    "        \n",
    "        if bases[i] == 0:  # Measurement in standard basis\n",
    "            measurements[i] = states[i]\n",
    "            \n",
    "        else:  # Measurement in complementary basis\n",
    "            measurements[i] = states[i]\n",
    "\n",
    "    return measurements"
   ]
  },
  {
   "cell_type": "code",
   "execution_count": 16,
   "id": "c6ea5691",
   "metadata": {},
   "outputs": [],
   "source": [
    "def simulate_system1(num):\n",
    "    # Alice prepares a sequence of quantum states\n",
    "    alice_states = alice_prepare_states(num)\n",
    "\n",
    "    # Alice and Bob share bases information\n",
    "    bases = generate_q_states(num)\n",
    "    \n",
    "    # Bob measures the quantum states\n",
    "    bob_states = bob_measure_states(alice_states, bases)\n",
    "\n",
    "    # Plot the states\n",
    "    plt.figure(figsize=(10, 6))\n",
    "    \n",
    "    plt.subplot(3, 1, 1)\n",
    "    plt.imshow([alice_states], cmap='gray', vmin=0, vmax=1)\n",
    "    plt.title('Alice')\n",
    "\n",
    "    plt.subplot(3, 1, 2)\n",
    "    plt.imshow([bob_states], cmap='gray', vmin=0, vmax=1)\n",
    "    plt.title('Bob')\n",
    "\n",
    "    plt.tight_layout()\n",
    "    plt.show()"
   ]
  },
  {
   "cell_type": "code",
   "execution_count": 17,
   "id": "0055fabf",
   "metadata": {},
   "outputs": [
    {
     "data": {
      "image/png": "[encoded data removed]",
      "text/plain": [
       "<Figure size 720x432 with 2 Axes>"
      ]
     },
     "metadata": {
      "needs_background": "light"
     },
     "output_type": "display_data"
    }
   ],
   "source": [
    "simulate_system1(num=10)"
   ]
  },
  {
   "cell_type": "markdown",
   "id": "73184b8b",
   "metadata": {},
   "source": [
    "### 1.2) Eavesdropper Present Who Doesn't Know Correct Base"
   ]
  },
  {
   "cell_type": "markdown",
   "id": "8b1cfad4",
   "metadata": {},
   "source": [
    "Next, we add an eavesdropper. The eavesdropper doesn’t know what base the photons are being sent with. So, he guesses a random orientation of his filter. However, because he doesn’t know the base, he doesn’t get the same as Alice. He also causes the polarization to change when he measures it through the collapse of the wavefunction. So, bob gets the wrong results as well. Bob knows there’s an eavesdropper. "
   ]
  },
  {
   "cell_type": "code",
   "execution_count": 30,
   "id": "544876f2",
   "metadata": {},
   "outputs": [],
   "source": [
    "def bob_measure_states(states, bases):\n",
    "    # Bob measures the sequence of quantum states\n",
    "    \n",
    "    measurements = np.zeros_like(states)\n",
    "    for i in range(len(states)):\n",
    "        \n",
    "        if bases[i] == 0:  # Measurement in standard basis\n",
    "            measurements[i] = states[i]\n",
    "            \n",
    "        else:  # Measurement in complementary basis\n",
    "            measurements[i] = 1 - states[i]\n",
    "\n",
    "    return measurements"
   ]
  },
  {
   "cell_type": "code",
   "execution_count": 31,
   "id": "7c06197c",
   "metadata": {},
   "outputs": [],
   "source": [
    "def eavesdropper_intercept(states, bases):\n",
    "    # Eavesdropper intercepts the sequence of quantum states and measures using its guess bases\n",
    "    \n",
    "    measurements = np.zeros_like(states)\n",
    "    for i in range(len(states)):\n",
    "        \n",
    "        if bases[i] == 0:  # Measurement in standard basis\n",
    "            measurements[i] = states[i]\n",
    "            \n",
    "        else:  # Measurement in complementary basis\n",
    "            measurements[i] = 1 - states[i]\n",
    "\n",
    "    return measurements"
   ]
  },
  {
   "cell_type": "code",
   "execution_count": 32,
   "id": "bc71e081",
   "metadata": {},
   "outputs": [],
   "source": [
    "def simulate_system2(num):\n",
    "    # Alice prepares a sequence of quantum states\n",
    "    alice_states = alice_prepare_states(num)\n",
    "\n",
    "    # Alice and Bob share bases information\n",
    "    bases = generate_q_states(num)\n",
    "    \n",
    "    # Eavesdroper uses a random guess bases\n",
    "    bases_eavesdropper = generate_q_states(num)\n",
    "\n",
    "    # Eavesdropper intercepts and measures the quantum states\n",
    "    eavesdropper_states = eavesdropper_intercept(alice_states, bases_eavesdropper)\n",
    "    \n",
    "    # Bob measures the quantum states\n",
    "    bob_states = bob_measure_states(alice_states, bases)\n",
    "\n",
    "    # Plot the states\n",
    "    plt.figure(figsize=(10, 6))\n",
    "    \n",
    "    plt.subplot(3, 1, 1)\n",
    "    plt.imshow([alice_states], cmap='gray', vmin=0, vmax=1)\n",
    "    plt.title('Alice')\n",
    "    \n",
    "    plt.subplot(3, 1, 2)\n",
    "    plt.imshow([eavesdropper_states], cmap='gray', vmin=0, vmax=1)\n",
    "    plt.title('Eavesdropper')\n",
    "\n",
    "    plt.subplot(3, 1, 3)\n",
    "    plt.imshow([bob_states], cmap='gray', vmin=0, vmax=1)\n",
    "    plt.title('Bob')\n",
    "\n",
    "    plt.tight_layout()\n",
    "    plt.show()"
   ]
  },
  {
   "cell_type": "code",
   "execution_count": 35,
   "id": "bca231a4",
   "metadata": {},
   "outputs": [
    {
     "data": {
      "image/png": "[encoded data removed]",
      "text/plain": [
       "<Figure size 720x432 with 3 Axes>"
      ]
     },
     "metadata": {
      "needs_background": "light"
     },
     "output_type": "display_data"
    }
   ],
   "source": [
    "simulate_system2(num = 10)"
   ]
  },
  {
   "cell_type": "markdown",
   "id": "7ef74129",
   "metadata": {},
   "source": [
    "### 1.3) Eavesdropper Guesses Correct Base"
   ]
  },
  {
   "cell_type": "markdown",
   "id": "d86f030b",
   "metadata": {},
   "source": [
    "Now the eavesdropper tries lots of different bases until he finds the correct one. When he finds this bases Alice and Bob will still get the same result as the eavesdropper will now be outputting the correct polarization as well. Alice and Bob won’t know that the eavesdropper has listened. "
   ]
  },
  {
   "cell_type": "code",
   "execution_count": 36,
   "id": "19cab679",
   "metadata": {},
   "outputs": [],
   "source": [
    "def bob_measure_states(states, bases):\n",
    "    # Bob measures the sequence of quantum states\n",
    "    \n",
    "    measurements = np.zeros_like(states)\n",
    "    for i in range(len(states)):\n",
    "        \n",
    "        if bases[i] == 0:  # Measurement in standard basis\n",
    "            measurements[i] = states[i]\n",
    "            \n",
    "        else:  # Measurement in complementary basis\n",
    "            measurements[i] = states[i]\n",
    "\n",
    "    return measurements"
   ]
  },
  {
   "cell_type": "code",
   "execution_count": 37,
   "id": "598ff3a4",
   "metadata": {},
   "outputs": [],
   "source": [
    "def eavesdropper_intercept(states, bases):\n",
    "    # Eavesdropper intercepts the sequence of quantum states and measures using its own bases\n",
    "    \n",
    "    measurements = np.zeros_like(states)\n",
    "    for i in range(len(states)):\n",
    "        \n",
    "        if bases[i] == 0:  # Measurement in standard basis\n",
    "            measurements[i] = states[i]\n",
    "            \n",
    "        else:  # Measurement in complementary basis\n",
    "            measurements[i] = states[i]\n",
    "\n",
    "    return measurements"
   ]
  },
  {
   "cell_type": "code",
   "execution_count": 41,
   "id": "c2a9e4de",
   "metadata": {},
   "outputs": [],
   "source": [
    "def simulate_system3(num):\n",
    "    # Alice prepares a sequence of quantum states\n",
    "    alice_states = alice_prepare_states(num)\n",
    "\n",
    "    # Alice and Bob share bases information\n",
    "    bases = generate_q_states(num)\n",
    "\n",
    "    # Eavesdropper intercepts and measures the quantum states\n",
    "    eavesdropper_states = eavesdropper_intercept(alice_states, bases)\n",
    "    \n",
    "    # Bob measures the quantum states\n",
    "    bob_states = bob_measure_states(eavesdropper_states, bases)\n",
    "\n",
    "    # Visualize the states\n",
    "    plt.figure(figsize=(10, 6))\n",
    "    \n",
    "    plt.subplot(3, 1, 1)\n",
    "    plt.imshow([alice_states], cmap='gray', vmin=0, vmax=1)\n",
    "    plt.title('Alice')\n",
    "    \n",
    "    plt.subplot(3, 1, 2)\n",
    "    plt.imshow([eavesdropper_states], cmap='gray', vmin=0, vmax=1)\n",
    "    plt.title('Eavesdropper')\n",
    "\n",
    "\n",
    "    plt.subplot(3, 1, 3)\n",
    "    plt.imshow([bob_states], cmap='gray', vmin=0, vmax=1)\n",
    "    plt.title('Bob')\n",
    "    \n",
    "    plt.tight_layout()\n",
    "    plt.show()"
   ]
  },
  {
   "cell_type": "code",
   "execution_count": 42,
   "id": "29de13a3",
   "metadata": {},
   "outputs": [
    {
     "data": {
      "image/png": "[encoded data removed]",
      "text/plain": [
       "<Figure size 720x432 with 3 Axes>"
      ]
     },
     "metadata": {
      "needs_background": "light"
     },
     "output_type": "display_data"
    }
   ],
   "source": [
    "simulate_system3(num = 10)"
   ]
  },
  {
   "cell_type": "markdown",
   "id": "ce071fd9",
   "metadata": {},
   "source": [
    "## 2) Use BB84 Protocol"
   ]
  },
  {
   "cell_type": "markdown",
   "id": "7f656dd0",
   "metadata": {},
   "source": [
    "To avoid this, we can use the BB84 Protocol. Instead of previously only using 1 bases Alice now uses 2 different bases. So, there’s 4 different qubits: horizontal, vertical, diagonal and antidiagonal. Sometimes Alice transmits photons in the “horizontal/vertical” base and sometimes in the “diagonal/antidiagnonal” base. She continues to use a “horizontal/vertical” beamsplitter. Bob is also randomly changing his measuring bases without knowing what Alice is using. Bob compares the bases he used with that of Alice. Only the results where they have by chance used the same base can results be used. Red is where they don’t match. The identical data can be used as the key "
   ]
  },
  {
   "cell_type": "code",
   "execution_count": 61,
   "id": "6f7b49a7",
   "metadata": {},
   "outputs": [],
   "source": [
    "def generate_key(length):\n",
    "    return [np.random.choice([0, 1]) for _ in range(length)]"
   ]
  },
  {
   "cell_type": "code",
   "execution_count": 62,
   "id": "8ab46bbe",
   "metadata": {},
   "outputs": [],
   "source": [
    "def apply_basis(state, basis):\n",
    "    if basis == 0:  # Horizontal/Vertical basis\n",
    "        return state\n",
    "    elif basis == 1:  # Diagonal/Anti-diagonal basis\n",
    "        return [(state[0] + state[1]) % 2, (state[0] - state[1]) % 2]"
   ]
  },
  {
   "cell_type": "code",
   "execution_count": 68,
   "id": "3963b0a1",
   "metadata": {},
   "outputs": [],
   "source": [
    "def alice_send_photons(num):\n",
    "    bases = generate_key(num)\n",
    "    bits = generate_key(num)\n",
    "    photons = [apply_basis([bits[i], 0], bases[i]) for i in range(num)]\n",
    "    return photons, bases"
   ]
  },
  {
   "cell_type": "code",
   "execution_count": 69,
   "id": "475d544b",
   "metadata": {},
   "outputs": [],
   "source": [
    "def bob_measure_photons(photons, bases):\n",
    "    measurements = [apply_basis(photons[i], bases[i]) for i in range(len(photons))]\n",
    "    return measurements"
   ]
  },
  {
   "cell_type": "code",
   "execution_count": 70,
   "id": "50ad9b91",
   "metadata": {},
   "outputs": [],
   "source": [
    "def remove_unequal_bits(alice_bits, bob_bits):\n",
    "    result = []\n",
    "    for i in range(min(len(alice_bits), len(bob_bits))):\n",
    "        if alice_bits[i] == bob_bits[i]:\n",
    "            result.append((alice_bits[i], bob_bits[i]))\n",
    "        else:\n",
    "            result.append((7,7))\n",
    "            # gives 7 when its a mismatch \n",
    "        \n",
    "    return result"
   ]
  },
  {
   "cell_type": "code",
   "execution_count": 80,
   "id": "88952c22",
   "metadata": {},
   "outputs": [],
   "source": [
    "def simulate_system4(num):\n",
    "    # Alice sends photons\n",
    "    alice_photons, alice_bases = alice_send_photons(num)\n",
    "\n",
    "    # Bob measures photons\n",
    "    bob_bases = generate_key(num)\n",
    "    bob_measurements = bob_measure_photons(alice_photons, bob_bases)\n",
    "\n",
    "    # Alice and Bob share their bases for comparison\n",
    "    shared_bits = remove_unequal_bits(alice_bases, bob_bases)\n",
    "\n",
    "    plt.figure(figsize=(10, 6))\n",
    "\n",
    "    plt.subplot(3, 1, 1)\n",
    "    plt.imshow([alice_bases], cmap='gray', vmin=0, vmax=1)\n",
    "    plt.title(\"Alice's Bits\")\n",
    "\n",
    "    plt.subplot(3, 1, 2)\n",
    "    plt.imshow([bob_bases], cmap='gray', vmin=0, vmax=1)\n",
    "    plt.title(\"Bob's Measured Bits\")\n",
    "\n",
    "    plt.subplot(3, 1, 3)\n",
    "    plt.imshow([[bit[0] for bit in shared_bits]], cmap=plt.cm.colors.ListedColormap(['black', 'white', 'red']), \n",
    "               norm=plt.cm.colors.BoundaryNorm([0, 1, 2, 7], plt.cm.colors.ListedColormap(['black', 'white', 'red']).N), \n",
    "               aspect='auto')\n",
    "    \n",
    "    \n",
    "    plt.title(\"Shared Bits\")\n",
    "\n",
    "    plt.tight_layout()\n",
    "    plt.show()"
   ]
  },
  {
   "cell_type": "code",
   "execution_count": 81,
   "id": "409e1178",
   "metadata": {},
   "outputs": [
    {
     "data": {
      "image/png": "[encoded data removed]",
      "text/plain": [
       "<Figure size 720x432 with 3 Axes>"
      ]
     },
     "metadata": {
      "needs_background": "light"
     },
     "output_type": "display_data"
    }
   ],
   "source": [
    "simulate_system4(num = 20)"
   ]
  },
  {
   "cell_type": "code",
   "execution_count": null,
   "id": "49d3ffde",
   "metadata": {},
   "outputs": [],
   "source": []
  },
  {
   "cell_type": "code",
   "execution_count": null,
   "id": "7c0a9cc1",
   "metadata": {},
   "outputs": [],
   "source": []
  },
  {
   "cell_type": "code",
   "execution_count": null,
   "id": "71652e02",
   "metadata": {},
   "outputs": [],
   "source": []
  }
 ],
 "metadata": {
  "kernelspec": {
   "display_name": "Python 3",
   "language": "python",
   "name": "python3"
  },
  "language_info": {
   "codemirror_mode": {
    "name": "ipython",
    "version": 3
   },
   "file_extension": ".py",
   "mimetype": "text/x-python",
   "name": "python",
   "nbconvert_exporter": "python",
   "pygments_lexer": "ipython3",
   "version": "3.8.8"
  }
 },
 "nbformat": 4,
 "nbformat_minor": 5
}
